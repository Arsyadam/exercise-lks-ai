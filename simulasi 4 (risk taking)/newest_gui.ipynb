{
 "cells": [
  {
   "cell_type": "code",
   "execution_count": null,
   "metadata": {},
   "outputs": [],
   "source": [
    "def create_input_fields(self):\n",
    "    for widget in self.frame_input.winfo_children():\n",
    "        widget.destroy()\n",
    "\n",
    "    self.name_entry = self.label_input()\n",
    "\n",
    "    col = 0\n",
    "    row = 3\n",
    "    max_row = row\n",
    "    for feature in self.selected_features:\n",
    "        self.feature_entries[feature] = self.input_label(self.frame_input, features=feature.replace(\"_\", \"\").title(), help_text=f'Enter {feature}')\n",
    "        col += 1 \n",
    "        if col == 4:\n",
    "            col=0\n",
    "            row+=3\n",
    "            max_row = row\n",
    "    \n",
    "    Button(self.frame_input, text=)"
   ]
  },
  {
   "cell_type": "code",
   "execution_count": 2,
   "metadata": {},
   "outputs": [],
   "source": [
    "from tkinter.ttk import *\n",
    "from tkinter import  messagebox\n",
    "import tkinter as tk"
   ]
  },
  {
   "cell_type": "code",
   "execution_count": null,
   "metadata": {},
   "outputs": [],
   "source": [
    "def predict_and_plot(self):\n",
    "    try:\n",
    "        values = []\n",
    "        for feature in self.selected_features:\n",
    "            try:\n",
    "                value = float(self.selected_feature[feature])\n",
    "                values.append(value)\n",
    "            except ValueError:\n",
    "                messagebox.showerror(f\"error\", \"please select {feature}\")\n",
    "                return\n",
    "        \n",
    "        \n",
    "        full_feature_array = np.zeros(len(self.all_features))\n",
    "        for i, feature in enumerate(self.all_feature):\n",
    "            if feature in self.selected_feature:\n",
    "                idx = self.selected_feature.index(feature)\n",
    "                full_feature_array[i] = value[idx]\n",
    "        \n",
    "        self.new_instance = full_feature_array\n",
    "        path, decisions = self.viz.get_prediction_path(self.new_instance)\n",
    "        max_step = len(decisions)\n",
    "        self.step = tk.Scale(self.frame_viz, from_=0, to=max_step,orient='horizontal',command=self.update_plot, tickinterval=1, length=500, resolution=1)\n",
    "        self.step.grid(column=0, row=0)\n",
    "\n",
    "        self.update_plot(value=1)\n",
    "        self.fig.clf()\n",
    "        self.ax = plt.add_subplot(111)\n",
    "        self.viz.plot_prediction_path(self.new_instance, step=self.step, viz)\n",
    "\n",
    "    except Exception as e:\n",
    "        messagebox.showerror(\"error\", f\"please select feature {e}\")\n",
    "\n",
    "\n",
    "\n"
   ]
  }
 ],
 "metadata": {
  "kernelspec": {
   "display_name": "lks_env",
   "language": "python",
   "name": "python3"
  },
  "language_info": {
   "codemirror_mode": {
    "name": "ipython",
    "version": 3
   },
   "file_extension": ".py",
   "mimetype": "text/x-python",
   "name": "python",
   "nbconvert_exporter": "python",
   "pygments_lexer": "ipython3",
   "version": "3.10.16"
  }
 },
 "nbformat": 4,
 "nbformat_minor": 2
}
