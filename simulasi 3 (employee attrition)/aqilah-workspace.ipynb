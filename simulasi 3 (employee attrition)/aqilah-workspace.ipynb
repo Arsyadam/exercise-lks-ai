{
 "cells": [
  {
   "cell_type": "code",
   "execution_count": null,
   "metadata": {},
   "outputs": [],
   "source": [
    "import pandas as pd \n",
    "import numpy as np \n",
    "import seaborn as sns \n",
    "import matplotlib.pyplot as plt "
   ]
  },
  {
   "cell_type": "code",
   "execution_count": 1,
   "metadata": {},
   "outputs": [],
   "source": [
    "class Node:\n",
    "    def __init__(self, feature_index=None, threshold=None, left=None, right=None, info_gain=None, value=None, sample=None):\n",
    "        self.feature_index = feature_index\n",
    "        self.threshold = threshold\n",
    "        self.left = left \n",
    "        self.right = right\n",
    "        self.info_gain = info_gain\n",
    "        self.value = value \n",
    "        self.sample = sample "
   ]
  },
  {
   "cell_type": "code",
   "execution_count": null,
   "metadata": {},
   "outputs": [],
   "source": [
    "class DecisionTreeClassifier:\n",
    "    def __init__(self, max_depth=3, min_sample_split=2, min_sample_leaf=1, features=None, mode='gini'):\n",
    "        self.max_depth = max_depth\n",
    "        self.min_sample_split = min_sample_split\n",
    "        self.min_sample_leaf = min_sample_leaf\n",
    "        self.features = features\n",
    "        self.mode = mode \n",
    "\n",
    "        self.root = None\n",
    "        self.feature_importance = None "
   ]
  },
  {
   "cell_type": "markdown",
   "metadata": {},
   "source": [
    "Department\tGender\tAge\tEnvironmentSatisfaction\tJobSatisfaction\tMonthlyIncome\tYearsAtCompany"
   ]
  },
  {
   "cell_type": "code",
   "execution_count": 2,
   "metadata": {},
   "outputs": [],
   "source": [
    "new_instance = input('Input [Department, Gender, Age, EnvironmentSatisfaction, JobSatisfaction, MonthlyIncome, YearsAtCompany]: \\n')"
   ]
  },
  {
   "cell_type": "code",
   "execution_count": null,
   "metadata": {},
   "outputs": [],
   "source": [
    "import tkinter as tk\n",
    "from tkinter import ttk, messagebox\n",
    "from matplotlib.backends.backend_tkagg import FigureCanvasTkAgg\n",
    "\n",
    "class TkinterApp:\n",
    "    def __init__(self, root):\n",
    "        self.root = root\n",
    "        self.root.attributes('-fullscreen', True)\n",
    "        self.root.title(\"Employer Attrition Prediction App\")\n",
    "\n",
    "        self.tab_control = ttk.Notebook(root)\n",
    "        self.predict_tab = ttk.Frame(self.tab_control, padding=\"30\")\n",
    "        self.history_tab = ttk.Frame(self.tab_control, padding=\"30\")\n",
    "        self.setting_tab = ttk.Frame(self.tab_control, padding=\"30\")\n",
    "\n",
    "        ttk.Style().configure('TNotebook.tab', font=('Poppins', 20), padding=\"30 10 30 10\")\n",
    "        self.tab_control.add(self.predict_tab, text=\"Predict Tab\")\n",
    "        self.tab_control.add(self.history_tab, text=\"History Tab\")\n",
    "        self.tab_control.add(self.setting_tab, text=\"Setting Tab\")\n",
    "        self.tab_control.pack(anchor='w', fill='x')\n",
    "\n",
    "        self.init_predict_tab()\n",
    "        self.init_history_tab()\n",
    "        self.init_setting_tab()\n",
    "    # Department\tGender\tAge\tEnvironmentSatisfaction\tJobSatisfaction\tMonthlyIncome\tYearsAtCompany\n",
    "    def init_predict_tab(self):\n",
    "        ttk.Label(self.predict_tab, text=\"Reward Employee App\", font=('Poppins', 32)).grid(column=0, row=0,sticky='w')\n",
    "        ttk.Label(self.predict_tab, text=\"Input your type of emplyee and make it consideration\", font=('Poppins light', 15)).grid(column=0, row=1, sticky='w')\n",
    "        \n",
    "        self.frame_input = ttk.Frame(self.predict_tab)\n",
    "        self.frame_input.grid(column=0, row=2)\n",
    "\n",
    "        ttk.Label(self.frame_input, text=\"Deparment\").grid(column=0, row=3)\n",
    "        self.department_select = ttk.Entry()\n",
    "        self.fig, self.ax = plt.subplots(figsize=(8, 8))\n",
    "        canvas = FigureCanvasTkAgg(self.fig, self.predict_tab)\n",
    "        canvas.draw()\n",
    "        canvas.get_tk_widget().grid(column=0, row=4)\n",
    "\n",
    "    def predict_and_plot(self):\n",
    "        self.fig.clf()\n",
    "        departments = {'Sales': 0, 'Research & Development': 1, 'Human Resources': 0}\n",
    "        gender = {'Female': 0, 'Male': 1}\n",
    "        new_instance = np.array([departments[self.department_select], gender[self.gender_select], self.age_enty, self.environment_satisfaction_entry, self.job_satisfaction_entry, self.monthly_income_entry, self.years_at_company_entry])\n",
    "\n",
    "        feature_names = ['Department', 'Gender', 'Age', 'EnvironmentSatisfaction', 'JobSatisfaction', 'MonthlyIncome', 'YearsAtCompany']\n",
    "        target_col = 'Attrition'\n",
    "\n",
    "        X = df_clean[feature_names].values\n",
    "        Y = df_clean[target_col].values\n",
    "\n",
    "        model = DecisionTreeClassifier(max_depth=self.max_depth_entry, min_sample_split=self.min_sample_split_entry, min_sample_leaf=self.min_sample_leaf_entry,  mode=self.mode_entry)\n",
    "        data = cross_validation(X, Y, model, k=5, pruning=self.post_pruning, alpha=self.alpha_entry)\n",
    "\n",
    "        data_df = pd.DataFrame(data['X_train'], columns=feature_names)\n",
    "        data_df[target_col] = data['y_train'].flatten()\n",
    "\n",
    "        viz = TreeVisualization(model, data_df=data_df, target_col=target_col, feature_names=feature_names)\n",
    "        viz.plot_prediction_path(new_instance, step=self.step)\n",
    "\n",
    "\n",
    "    def update_plot(self):\n",
    "        print(\"predict\")\n",
    "\n",
    "\n",
    "    def init_history_tab(self):\n",
    "        ttk.Label(self.history_tab, text=\"History and Compare\", font=('Poppins', 32)).grid(column=0, row=0,sticky='w')\n",
    "        ttk.Label(self.history_tab, text=\"Check History and compare the performance model\", font=('Poppins light', 15)).grid(column=0, row=1, sticky='w')\n",
    "\n",
    "    def init_setting_tab(self):\n",
    "        ttk.Label(self.setting_tab, text=\"Adjust your best setting\", font=('Poppins', 32)).grid(column=0, row=0,sticky='w')\n",
    "        ttk.Label(self.setting_tab, text=\"by default, model setting is in best performance\", font=('Poppins light', 15)).grid(column=0, row=1, sticky='w')\n",
    "        \n",
    "\n",
    "if __name__ == \"__main__\":\n",
    "    root = tk.Tk()\n",
    "    app = TkinterApp(root)\n",
    "    root.mainloop()\n"
   ]
  },
  {
   "cell_type": "code",
   "execution_count": null,
   "metadata": {},
   "outputs": [
    {
     "ename": "SyntaxError",
     "evalue": "positional argument follows keyword argument (1752458901.py, line 81)",
     "output_type": "error",
     "traceback": [
      "\u001b[1;36m  Cell \u001b[1;32mIn[11], line 81\u001b[1;36m\u001b[0m\n\u001b[1;33m    ttk.Label(self.frame_result, text=label_title, font )\u001b[0m\n\u001b[1;37m                                                        ^\u001b[0m\n\u001b[1;31mSyntaxError\u001b[0m\u001b[1;31m:\u001b[0m positional argument follows keyword argument\n"
     ]
    }
   ],
   "source": [
    "import tkinter as tk\n",
    "from tkinter import ttk, messagebox\n",
    "from matplotlib.backends.backend_tkagg import FigureCanvasTkAgg\n",
    "\n",
    "class TkinterApp:\n",
    "    def __init__(self, root):\n",
    "        self.root = root\n",
    "        self.root.attributes('-fullscreen', True)\n",
    "        self.root.title(\"Employer Attrition Prediction App\")\n",
    "\n",
    "        self.tab_control = ttk.Notebook(root)\n",
    "        self.predict_tab = ttk.Frame(self.tab_control, padding=\"30\")\n",
    "        self.history_tab = ttk.Frame(self.tab_control, padding=\"30\")\n",
    "        self.setting_tab = ttk.Frame(self.tab_control, padding=\"30\")\n",
    "\n",
    "        ttk.Style().configure('TNotebook.tab', font=('Poppins', 20), padding=\"30 10 30 10\")\n",
    "        self.tab_control.add(self.predict_tab, text=\"Predict Tab\")\n",
    "        self.tab_control.add(self.history_tab, text=\"History Tab\")\n",
    "        self.tab_control.add(self.setting_tab, text=\"Setting Tab\")\n",
    "        self.tab_control.pack(anchor='w', fill='x')\n",
    "\n",
    "        self.init_predict_tab()\n",
    "        self.init_history_tab()\n",
    "        self.init_setting_tab()\n",
    "    # Department\tGender\tAge\tEnvironmentSatisfaction\tJobSatisfaction\tMonthlyIncome\tYearsAtCompany\n",
    "    def init_predict_tab(self):\n",
    "        ttk.Label(self.predict_tab, text=\"Reward Employee App\", font=('Poppins', 32)).grid(column=0, row=0,sticky='w')\n",
    "        ttk.Label(self.predict_tab, text=\"Input your type of emplyee and make it consideration\", font=('Poppins light', 15)).grid(column=0, row=1, sticky='w')\n",
    "        \n",
    "        self.frame_input = ttk.Frame(self.predict_tab)\n",
    "        self.frame_input.grid(column=0, row=2, sticky='w')\n",
    "\n",
    "        ttk.Label(self.frame_input, text=\"Deparment\", font=('Poppins', 15)).grid(column=0, row=0, sticky='w')\n",
    "        self.department_select = ttk.Combobox(self.frame_input, value=(['Research & Development', 'Sales', 'Human Resources']) , font=('Poppins', 18))\n",
    "        self.department_select.grid(column=0, row=1)\n",
    "        ttk.Label(self.frame_input, text=\"Deparment\", font=('Poppins', 10)).grid(column=0, row=2, sticky='w')\n",
    "\n",
    "        ttk.Label(self.frame_input, text=\"Gender\", font=('Poppins', 15)).grid(column=1, row=0, sticky='w')\n",
    "        self.gender_select = ttk.Combobox(self.frame_input, value=(['Male', 'Female']), font=('Poppins', 18))\n",
    "        self.gender_select.grid(column=1, row=1)\n",
    "        ttk.Label(self.frame_input, text=\"Male or Female\", font=('Poppins', 10)).grid(column=1, row=2, sticky='w')\n",
    "\n",
    "        ttk.Label(self.frame_input, text=\"Age\", font=('Poppins', 15)).grid(column=2, row=0, sticky='w')\n",
    "        self.department_select = ttk.Entry(self.frame_input, font=('Poppins', 18))\n",
    "        self.department_select.grid(column=2, row=1)\n",
    "        ttk.Label(self.frame_input, text=\"Integer\", font=('Poppins', 10)).grid(column=2, row=2, sticky='w')\n",
    "\n",
    "        ttk.Label(self.frame_input, text=\"Job Satisfaction\", font=('Poppins', 15)).grid(column=3, row=0, sticky='w')\n",
    "        self.department_select = ttk.Combobox(self.frame_input, value=([1,2,3,4]), font=('Poppins', 18))\n",
    "        self.department_select.grid(column=3, row=1)\n",
    "        ttk.Label(self.frame_input, text=\"Range 1-4 Numerical\", font=('Poppins', 10)).grid(column=3, row=2, sticky='w')\n",
    "\n",
    "        ttk.Label(self.frame_input, text=\"Environment Satisfaction\", font=('Poppins', 15)).grid(column=4, row=0, sticky='w')\n",
    "        self.department_select = ttk.Combobox(self.frame_input, value=([1,2,3,4]), font=('Poppins', 18))\n",
    "        self.department_select.grid(column=4, row=1)\n",
    "        ttk.Label(self.frame_input, text=\"Range 1-4 Numerical\", font=('Poppins', 10)).grid(column=4, row=2, sticky='w')\n",
    "\n",
    "        ttk.Label(self.frame_input, text=\"MonthlyIncome\", font=('Poppins', 15)).grid(column=5, row=0, sticky='w')\n",
    "        self.department_select = ttk.Entry(self.frame_input, font=('Poppins', 18))\n",
    "        self.department_select.grid(column=5, row=1)\n",
    "        ttk.Label(self.frame_input, text=\"in usd\", font=('Poppins', 10)).grid(column=5, row=2, sticky='w')\n",
    "\n",
    "        ttk.Label(self.frame_input, text=\"YearsAtCompany\", font=('Poppins', 15)).grid(column=6, row=0, sticky='w')\n",
    "        self.department_select = ttk.Entry(self.frame_input, font=('Poppins', 18))\n",
    "        self.department_select.grid(column=6, row=1)\n",
    "        ttk.Label(self.frame_input, text=\"Integer (total years)\", font=('Poppins', 10)).grid(column=6, row=2, sticky='w')\n",
    "\n",
    "        self.fig, self.ax = plt.subplots(figsize=(8, 8))\n",
    "        canvas = FigureCanvasTkAgg(self.fig, self.predict_tab)\n",
    "        canvas.draw()\n",
    "        canvas.get_tk_widget().grid(column=0, row=4, sticky='w')\n",
    "\n",
    "        self.frame_result = ttk.Frame(self.predict_tab)\n",
    "        self.frame_result.grid(column=1, row=4, sticky='w')\n",
    "\n",
    "        row=1\n",
    "        col=0\n",
    "        for column, value in new_row.items():\n",
    "            label_title = column.replace('_', '').title()\n",
    "            label_value = value[0]\n",
    "            ttk.Label(self.frame_result, text=label_title, font )\n",
    "\n",
    "    def predict_and_plot(self):\n",
    "        self.fig.clf()\n",
    "        departments = {'Sales': 0, 'Research & Development': 1, 'Human Resources': 0}\n",
    "        gender = {'Female': 0, 'Male': 1}\n",
    "        new_instance = np.array(\n",
    "            [departments[self.department_select.get()], \n",
    "             gender[self.gender_select.get()], \n",
    "             self.age_enty.get(), \n",
    "             self.environment_satisfaction_entry.get(), \n",
    "             self.job_satisfaction_entry.get(), \n",
    "             self.monthly_income_entry.get(), \n",
    "             self.years_at_company_entry.get()\n",
    "            ]\n",
    "        )\n",
    "\n",
    "        feature_names = ['Department', 'Gender', 'Age', 'EnvironmentSatisfaction', 'JobSatisfaction', 'MonthlyIncome', 'YearsAtCompany']\n",
    "        target_col = 'Attrition'\n",
    "\n",
    "        X = df_clean[feature_names].values\n",
    "        Y = df_clean[target_col].values\n",
    "\n",
    "        model = DecisionTreeClassifier(max_depth=self.max_depth_entry.get(), min_sample_split=self.min_sample_split_entry.get(), min_sample_leaf=self.min_sample_leaf_entry.get(),  mode=self.mode_entry.get())\n",
    "        data = cross_validation(X, Y, model, k=5, pruning=self.post_pruning.get(), alpha=self.alpha_entry.get())\n",
    "\n",
    "        data_df = pd.DataFrame(data['X_train'], columns=feature_names)\n",
    "        data_df[target_col] = data['y_train'].flatten()\n",
    "\n",
    "        viz = TreeVisualization(model, data_df=data_df, target_col=target_col, feature_names=feature_names)\n",
    "        viz.plot_prediction_path(new_instance, step=self.step)\n",
    "\n",
    "        new_row = {\n",
    "            'Department': [departments[self.department_select.get()]],\n",
    "            'Gender': [gender[self.gender_select.get()]],\n",
    "            'Age': [self.age_enty.get()],\n",
    "            'EnvironmentSatisfaction': [self.environment_satisfaction_entry.get()],\n",
    "            'JobSatisfaction': [self.job_satisfaction_entry.get()],\n",
    "            'MonthlyIncome': [self.monthly_income_entry.get()],\n",
    "            'YearsAtCompany': [self.years_at_company_entry.get()],\n",
    "            'Max_depth': [self.max_depth_entry.get()],\n",
    "            'Min_sample_split': [self.min_sample_split_entry.get()],\n",
    "            'Min_sample_leaf': [self.min_sample_leaf_entry.get()],\n",
    "            'Mode': [self.mode_entry.get()],\n",
    "        }\n",
    "\n",
    "        \n",
    "\n",
    "    def update_plot(self):\n",
    "        print(\"predict\")\n",
    "\n",
    "\n",
    "    def init_history_tab(self):\n",
    "        ttk.Label(self.history_tab, text=\"History and Compare\", font=('Poppins', 32)).grid(column=0, row=0,sticky='w')\n",
    "        ttk.Label(self.history_tab, text=\"Check History and compare the performance model\", font=('Poppins light', 15)).grid(column=0, row=1, sticky='w')\n",
    "\n",
    "    def init_setting_tab(self):\n",
    "        ttk.Label(self.setting_tab, text=\"Adjust your best setting\", font=('Poppins', 32)).grid(column=0, row=0,sticky='w')\n",
    "        ttk.Label(self.setting_tab, text=\"by default, model setting is in best performance\", font=('Poppins light', 15)).grid(column=0, row=1, sticky='w')\n",
    "        \n",
    "\n",
    "if __name__ == \"__main__\":\n",
    "    root = tk.Tk()\n",
    "    app = TkinterApp(root)\n",
    "    root.mainloop()\n"
   ]
  },
  {
   "cell_type": "code",
   "execution_count": 12,
   "metadata": {},
   "outputs": [
    {
     "data": {
      "text/plain": [
       "2"
      ]
     },
     "execution_count": 12,
     "metadata": {},
     "output_type": "execute_result"
    }
   ],
   "source": [
    "neww = {'smth': 2}\n",
    "neww.get('smth')"
   ]
  },
  {
   "cell_type": "code",
   "execution_count": 1,
   "metadata": {},
   "outputs": [
    {
     "name": "stderr",
     "output_type": "stream",
     "text": [
      "C:\\Users\\Acer\\AppData\\Local\\Temp\\ipykernel_25236\\349756829.py:1: DeprecationWarning: \n",
      "Pyarrow will become a required dependency of pandas in the next major release of pandas (pandas 3.0),\n",
      "(to allow more performant data types, such as the Arrow string type, and better interoperability with other libraries)\n",
      "but was not found to be installed on your system.\n",
      "If this would cause problems for you,\n",
      "please provide us feedback at https://github.com/pandas-dev/pandas/issues/54466\n",
      "        \n",
      "  import pandas as pd\n"
     ]
    }
   ],
   "source": [
    "import pandas as pd \n",
    "import numpy as np \n",
    "import seaborn as sns \n",
    "import matplotlib.pyplot as plt \n",
    "from collections import deque, Counter\n",
    "from matplotlib.patches import Patch, ConnectionPatch"
   ]
  },
  {
   "cell_type": "code",
   "execution_count": 2,
   "metadata": {},
   "outputs": [
    {
     "name": "stderr",
     "output_type": "stream",
     "text": [
      "<>:1: SyntaxWarning: invalid escape sequence '\\W'\n",
      "<>:1: SyntaxWarning: invalid escape sequence '\\W'\n",
      "C:\\Users\\Acer\\AppData\\Local\\Temp\\ipykernel_25236\\3225621068.py:1: SyntaxWarning: invalid escape sequence '\\W'\n",
      "  df = pd.read_csv('dataset\\WA_Fn-UseC_-HR-Employee-Attrition.csv')\n"
     ]
    }
   ],
   "source": [
    "df = pd.read_csv('dataset\\WA_Fn-UseC_-HR-Employee-Attrition.csv')"
   ]
  },
  {
   "cell_type": "code",
   "execution_count": null,
   "metadata": {},
   "outputs": [],
   "source": [
    "df_clean = df[['Attrition', 'Department', 'Gender', 'Age', 'EnvironmentSatisfaction', 'JobSatisfaction', 'MonthlyIncome', 'YearsAtCompany']]"
   ]
  },
  {
   "cell_type": "code",
   "execution_count": 4,
   "metadata": {},
   "outputs": [
    {
     "data": {
      "text/html": [
       "<div>\n",
       "<style scoped>\n",
       "    .dataframe tbody tr th:only-of-type {\n",
       "        vertical-align: middle;\n",
       "    }\n",
       "\n",
       "    .dataframe tbody tr th {\n",
       "        vertical-align: top;\n",
       "    }\n",
       "\n",
       "    .dataframe thead th {\n",
       "        text-align: right;\n",
       "    }\n",
       "</style>\n",
       "<table border=\"1\" class=\"dataframe\">\n",
       "  <thead>\n",
       "    <tr style=\"text-align: right;\">\n",
       "      <th></th>\n",
       "      <th>Attrition</th>\n",
       "      <th>Department</th>\n",
       "      <th>Gender</th>\n",
       "      <th>Age</th>\n",
       "      <th>EnvironmentSatisfaction</th>\n",
       "      <th>JobSatisfaction</th>\n",
       "      <th>MonthlyIncome</th>\n",
       "      <th>YearsAtCompany</th>\n",
       "    </tr>\n",
       "  </thead>\n",
       "  <tbody>\n",
       "    <tr>\n",
       "      <th>0</th>\n",
       "      <td>Yes</td>\n",
       "      <td>Sales</td>\n",
       "      <td>Female</td>\n",
       "      <td>41</td>\n",
       "      <td>2</td>\n",
       "      <td>4</td>\n",
       "      <td>5993</td>\n",
       "      <td>6</td>\n",
       "    </tr>\n",
       "    <tr>\n",
       "      <th>1</th>\n",
       "      <td>No</td>\n",
       "      <td>Research &amp; Development</td>\n",
       "      <td>Male</td>\n",
       "      <td>49</td>\n",
       "      <td>3</td>\n",
       "      <td>2</td>\n",
       "      <td>5130</td>\n",
       "      <td>10</td>\n",
       "    </tr>\n",
       "    <tr>\n",
       "      <th>2</th>\n",
       "      <td>Yes</td>\n",
       "      <td>Research &amp; Development</td>\n",
       "      <td>Male</td>\n",
       "      <td>37</td>\n",
       "      <td>4</td>\n",
       "      <td>3</td>\n",
       "      <td>2090</td>\n",
       "      <td>0</td>\n",
       "    </tr>\n",
       "    <tr>\n",
       "      <th>3</th>\n",
       "      <td>No</td>\n",
       "      <td>Research &amp; Development</td>\n",
       "      <td>Female</td>\n",
       "      <td>33</td>\n",
       "      <td>4</td>\n",
       "      <td>3</td>\n",
       "      <td>2909</td>\n",
       "      <td>8</td>\n",
       "    </tr>\n",
       "    <tr>\n",
       "      <th>4</th>\n",
       "      <td>No</td>\n",
       "      <td>Research &amp; Development</td>\n",
       "      <td>Male</td>\n",
       "      <td>27</td>\n",
       "      <td>1</td>\n",
       "      <td>2</td>\n",
       "      <td>3468</td>\n",
       "      <td>2</td>\n",
       "    </tr>\n",
       "  </tbody>\n",
       "</table>\n",
       "</div>"
      ],
      "text/plain": [
       "  Attrition              Department  Gender  Age  EnvironmentSatisfaction  \\\n",
       "0       Yes                   Sales  Female   41                        2   \n",
       "1        No  Research & Development    Male   49                        3   \n",
       "2       Yes  Research & Development    Male   37                        4   \n",
       "3        No  Research & Development  Female   33                        4   \n",
       "4        No  Research & Development    Male   27                        1   \n",
       "\n",
       "   JobSatisfaction  MonthlyIncome  YearsAtCompany  \n",
       "0                4           5993               6  \n",
       "1                2           5130              10  \n",
       "2                3           2090               0  \n",
       "3                3           2909               8  \n",
       "4                2           3468               2  "
      ]
     },
     "execution_count": 4,
     "metadata": {},
     "output_type": "execute_result"
    }
   ],
   "source": [
    "df_clean.head()"
   ]
  },
  {
   "cell_type": "code",
   "execution_count": 7,
   "metadata": {},
   "outputs": [
    {
     "data": {
      "text/plain": [
       "0       1\n",
       "1       0\n",
       "2       1\n",
       "3       0\n",
       "4       0\n",
       "       ..\n",
       "1465    0\n",
       "1466    0\n",
       "1467    0\n",
       "1468    0\n",
       "1469    0\n",
       "Length: 1470, dtype: int8"
      ]
     },
     "execution_count": 7,
     "metadata": {},
     "output_type": "execute_result"
    }
   ],
   "source": [
    "df_clean['Attrition'].astype('category').cat.codes"
   ]
  },
  {
   "cell_type": "code",
   "execution_count": 10,
   "metadata": {},
   "outputs": [
    {
     "data": {
      "text/plain": [
       "array(['Sales', 'Research & Development', 'Human Resources'], dtype=object)"
      ]
     },
     "execution_count": 10,
     "metadata": {},
     "output_type": "execute_result"
    }
   ],
   "source": [
    "df_clean['Department'].unique()"
   ]
  },
  {
   "cell_type": "code",
   "execution_count": 9,
   "metadata": {},
   "outputs": [
    {
     "data": {
      "text/plain": [
       "0       0\n",
       "1       1\n",
       "2       1\n",
       "3       0\n",
       "4       1\n",
       "       ..\n",
       "1465    1\n",
       "1466    1\n",
       "1467    1\n",
       "1468    1\n",
       "1469    1\n",
       "Length: 1470, dtype: int8"
      ]
     },
     "execution_count": 9,
     "metadata": {},
     "output_type": "execute_result"
    }
   ],
   "source": [
    "df_clean['Gender'].astype('category').cat.codes"
   ]
  },
  {
   "cell_type": "code",
   "execution_count": null,
   "metadata": {},
   "outputs": [
    {
     "data": {
      "text/plain": [
       "[1310, 352, 1203, 643, 461]"
      ]
     },
     "execution_count": 5,
     "metadata": {},
     "output_type": "execute_result"
    }
   ],
   "source": [
    "def sampling(df, col, ratio=0.1):\n",
    "    classes = np.unique(df[col])\n",
    "    count = int(len(df) * ratio)\n",
    "    indices = []\n",
    "    for cls in classes:\n",
    "        index = df[df[col] == cls].index.tolist()\n",
    "        np.random.shuffle(index)\n",
    "        indices.append(index[:count])\n",
    "    return indices\n",
    "        \n",
    "indices = [index for index_list in sampling(df, 'Attrition', ratio=0.2) for index in index_list]\n",
    "indices[:5]"
   ]
  },
  {
   "cell_type": "code",
   "execution_count": null,
   "metadata": {},
   "outputs": [
    {
     "data": {
      "text/html": [
       "<div>\n",
       "<style scoped>\n",
       "    .dataframe tbody tr th:only-of-type {\n",
       "        vertical-align: middle;\n",
       "    }\n",
       "\n",
       "    .dataframe tbody tr th {\n",
       "        vertical-align: top;\n",
       "    }\n",
       "\n",
       "    .dataframe thead th {\n",
       "        text-align: right;\n",
       "    }\n",
       "</style>\n",
       "<table border=\"1\" class=\"dataframe\">\n",
       "  <thead>\n",
       "    <tr style=\"text-align: right;\">\n",
       "      <th></th>\n",
       "      <th>Department</th>\n",
       "      <th>Gender</th>\n",
       "      <th>Age</th>\n",
       "      <th>EnvironmentSatisfaction</th>\n",
       "      <th>JobSatisfaction</th>\n",
       "      <th>MonthlyIncome</th>\n",
       "      <th>YearsAtCompany</th>\n",
       "      <th>Attrition</th>\n",
       "      <th>pred</th>\n",
       "    </tr>\n",
       "  </thead>\n",
       "  <tbody>\n",
       "    <tr>\n",
       "      <th>0</th>\n",
       "      <td>1</td>\n",
       "      <td>1</td>\n",
       "      <td>31</td>\n",
       "      <td>2</td>\n",
       "      <td>3</td>\n",
       "      <td>3477</td>\n",
       "      <td>5</td>\n",
       "      <td>0</td>\n",
       "      <td>0.0</td>\n",
       "    </tr>\n",
       "    <tr>\n",
       "      <th>1</th>\n",
       "      <td>2</td>\n",
       "      <td>1</td>\n",
       "      <td>33</td>\n",
       "      <td>1</td>\n",
       "      <td>1</td>\n",
       "      <td>6392</td>\n",
       "      <td>2</td>\n",
       "      <td>0</td>\n",
       "      <td>0.0</td>\n",
       "    </tr>\n",
       "    <tr>\n",
       "      <th>2</th>\n",
       "      <td>1</td>\n",
       "      <td>1</td>\n",
       "      <td>55</td>\n",
       "      <td>3</td>\n",
       "      <td>1</td>\n",
       "      <td>19038</td>\n",
       "      <td>1</td>\n",
       "      <td>0</td>\n",
       "      <td>0.0</td>\n",
       "    </tr>\n",
       "    <tr>\n",
       "      <th>3</th>\n",
       "      <td>0</td>\n",
       "      <td>1</td>\n",
       "      <td>55</td>\n",
       "      <td>3</td>\n",
       "      <td>2</td>\n",
       "      <td>19636</td>\n",
       "      <td>10</td>\n",
       "      <td>0</td>\n",
       "      <td>0.0</td>\n",
       "    </tr>\n",
       "    <tr>\n",
       "      <th>4</th>\n",
       "      <td>1</td>\n",
       "      <td>0</td>\n",
       "      <td>28</td>\n",
       "      <td>4</td>\n",
       "      <td>2</td>\n",
       "      <td>7655</td>\n",
       "      <td>9</td>\n",
       "      <td>0</td>\n",
       "      <td>0.0</td>\n",
       "    </tr>\n",
       "  </tbody>\n",
       "</table>\n",
       "</div>"
      ],
      "text/plain": [
       "   Department  Gender  Age  EnvironmentSatisfaction  JobSatisfaction  \\\n",
       "0           1       1   31                        2                3   \n",
       "1           2       1   33                        1                1   \n",
       "2           1       1   55                        3                1   \n",
       "3           0       1   55                        3                2   \n",
       "4           1       0   28                        4                2   \n",
       "\n",
       "   MonthlyIncome  YearsAtCompany  Attrition  pred  \n",
       "0           3477               5          0   0.0  \n",
       "1           6392               2          0   0.0  \n",
       "2          19038               1          0   0.0  \n",
       "3          19636              10          0   0.0  \n",
       "4           7655               9          0   0.0  "
      ]
     },
     "metadata": {},
     "output_type": "display_data"
    }
   ],
   "source": [
    "y_pred_test = model.predict(data['X_test'])\n",
    "y_pred_train = model.predict(data['X_train'])\n",
    "pred = np.concatenate([y_pred_test, y_pred_train])\n",
    "indices = np.concatenate([data['test_indices'], data['train_indices']]) \n",
    "df_clean.loc[indices, 'pred'] = pred \n",
    "df_clean.head()"
   ]
  }
 ],
 "metadata": {
  "kernelspec": {
   "display_name": "Python 3",
   "language": "python",
   "name": "python3"
  },
  "language_info": {
   "codemirror_mode": {
    "name": "ipython",
    "version": 3
   },
   "file_extension": ".py",
   "mimetype": "text/x-python",
   "name": "python",
   "nbconvert_exporter": "python",
   "pygments_lexer": "ipython3",
   "version": "3.12.2"
  }
 },
 "nbformat": 4,
 "nbformat_minor": 2
}
