{
 "cells": [
  {
   "cell_type": "markdown",
   "metadata": {},
   "source": [
    "# **Employee Attrition** 👷‍♀️👷‍♂️\n",
    "\n",
    "`Objective:` The key to success in any organization is attracting and retaining top talent. I’m an HR analyst at my company, and one of my tasks is to determine which factors keep employees at my company and which prompt others to leave. I need to know what factors I can change to prevent the loss of good people. Watson Analytics is going to help.\n",
    "\n"
   ]
  },
  {
   "cell_type": "code",
   "execution_count": 175,
   "metadata": {},
   "outputs": [],
   "source": [
    "import pandas as pd\n",
    "import numpy as np \n",
    "import seaborn as sns \n",
    "import matplotlib.pyplot as plt \n",
    "from collections import Counter"
   ]
  },
  {
   "cell_type": "code",
   "execution_count": 176,
   "metadata": {},
   "outputs": [],
   "source": [
    "df = pd.read_csv('WA_Fn-UseC_-HR-Employee-Attrition.csv')"
   ]
  },
  {
   "cell_type": "code",
   "execution_count": 177,
   "metadata": {},
   "outputs": [],
   "source": [
    "df = df[['Attrition', 'Department', 'Gender', 'Age', 'EnvironmentSatisfaction', 'JobSatisfaction', 'MonthlyIncome', 'YearsAtCompany']]"
   ]
  },
  {
   "cell_type": "code",
   "execution_count": 178,
   "metadata": {},
   "outputs": [],
   "source": [
    "def sampling(df, col, ratio=0.2):\n",
    "    classes = np.unique(df[col])\n",
    "    count = int(len(df) * ratio)\n",
    "    indices = []\n",
    "    for cls in classes:\n",
    "        index = df[df[col] == cls].index.tolist()\n",
    "        np.random.shuffle(index)\n",
    "        indices.append(index[:count])\n",
    "    return [index for index_list in indices for index in index_list]\n",
    "\n",
    "indices = sampling(df, 'Attrition', ratio=0.1)\n",
    "df = df.loc[indices]\n",
    "df_clean = df.copy()"
   ]
  },
  {
   "cell_type": "code",
   "execution_count": 179,
   "metadata": {},
   "outputs": [
    {
     "data": {
      "text/html": [
       "<div>\n",
       "<style scoped>\n",
       "    .dataframe tbody tr th:only-of-type {\n",
       "        vertical-align: middle;\n",
       "    }\n",
       "\n",
       "    .dataframe tbody tr th {\n",
       "        vertical-align: top;\n",
       "    }\n",
       "\n",
       "    .dataframe thead th {\n",
       "        text-align: right;\n",
       "    }\n",
       "</style>\n",
       "<table border=\"1\" class=\"dataframe\">\n",
       "  <thead>\n",
       "    <tr style=\"text-align: right;\">\n",
       "      <th></th>\n",
       "      <th>Attrition</th>\n",
       "      <th>Department</th>\n",
       "      <th>Gender</th>\n",
       "      <th>Age</th>\n",
       "      <th>EnvironmentSatisfaction</th>\n",
       "      <th>JobSatisfaction</th>\n",
       "      <th>MonthlyIncome</th>\n",
       "      <th>YearsAtCompany</th>\n",
       "    </tr>\n",
       "  </thead>\n",
       "  <tbody>\n",
       "    <tr>\n",
       "      <th>115</th>\n",
       "      <td>No</td>\n",
       "      <td>Sales</td>\n",
       "      <td>Male</td>\n",
       "      <td>37</td>\n",
       "      <td>3</td>\n",
       "      <td>4</td>\n",
       "      <td>7428</td>\n",
       "      <td>5</td>\n",
       "    </tr>\n",
       "    <tr>\n",
       "      <th>1429</th>\n",
       "      <td>No</td>\n",
       "      <td>Research &amp; Development</td>\n",
       "      <td>Male</td>\n",
       "      <td>39</td>\n",
       "      <td>1</td>\n",
       "      <td>4</td>\n",
       "      <td>4108</td>\n",
       "      <td>7</td>\n",
       "    </tr>\n",
       "    <tr>\n",
       "      <th>1341</th>\n",
       "      <td>No</td>\n",
       "      <td>Research &amp; Development</td>\n",
       "      <td>Male</td>\n",
       "      <td>31</td>\n",
       "      <td>2</td>\n",
       "      <td>3</td>\n",
       "      <td>4197</td>\n",
       "      <td>10</td>\n",
       "    </tr>\n",
       "    <tr>\n",
       "      <th>252</th>\n",
       "      <td>No</td>\n",
       "      <td>Research &amp; Development</td>\n",
       "      <td>Male</td>\n",
       "      <td>29</td>\n",
       "      <td>3</td>\n",
       "      <td>4</td>\n",
       "      <td>2340</td>\n",
       "      <td>6</td>\n",
       "    </tr>\n",
       "    <tr>\n",
       "      <th>621</th>\n",
       "      <td>No</td>\n",
       "      <td>Sales</td>\n",
       "      <td>Male</td>\n",
       "      <td>36</td>\n",
       "      <td>2</td>\n",
       "      <td>4</td>\n",
       "      <td>6201</td>\n",
       "      <td>18</td>\n",
       "    </tr>\n",
       "  </tbody>\n",
       "</table>\n",
       "</div>"
      ],
      "text/plain": [
       "     Attrition              Department Gender  Age  EnvironmentSatisfaction  \\\n",
       "115         No                   Sales   Male   37                        3   \n",
       "1429        No  Research & Development   Male   39                        1   \n",
       "1341        No  Research & Development   Male   31                        2   \n",
       "252         No  Research & Development   Male   29                        3   \n",
       "621         No                   Sales   Male   36                        2   \n",
       "\n",
       "      JobSatisfaction  MonthlyIncome  YearsAtCompany  \n",
       "115                 4           7428               5  \n",
       "1429                4           4108               7  \n",
       "1341                3           4197              10  \n",
       "252                 4           2340               6  \n",
       "621                 4           6201              18  "
      ]
     },
     "execution_count": 179,
     "metadata": {},
     "output_type": "execute_result"
    }
   ],
   "source": [
    "df.head()"
   ]
  },
  {
   "cell_type": "code",
   "execution_count": 180,
   "metadata": {},
   "outputs": [
    {
     "data": {
      "text/plain": [
       "(294, 8)"
      ]
     },
     "execution_count": 180,
     "metadata": {},
     "output_type": "execute_result"
    }
   ],
   "source": [
    "df.shape "
   ]
  },
  {
   "cell_type": "code",
   "execution_count": 181,
   "metadata": {},
   "outputs": [
    {
     "name": "stdout",
     "output_type": "stream",
     "text": [
      "<class 'pandas.core.frame.DataFrame'>\n",
      "Index: 294 entries, 115 to 0\n",
      "Data columns (total 8 columns):\n",
      " #   Column                   Non-Null Count  Dtype \n",
      "---  ------                   --------------  ----- \n",
      " 0   Attrition                294 non-null    object\n",
      " 1   Department               294 non-null    object\n",
      " 2   Gender                   294 non-null    object\n",
      " 3   Age                      294 non-null    int64 \n",
      " 4   EnvironmentSatisfaction  294 non-null    int64 \n",
      " 5   JobSatisfaction          294 non-null    int64 \n",
      " 6   MonthlyIncome            294 non-null    int64 \n",
      " 7   YearsAtCompany           294 non-null    int64 \n",
      "dtypes: int64(5), object(3)\n",
      "memory usage: 20.7+ KB\n"
     ]
    }
   ],
   "source": [
    "df.info()"
   ]
  },
  {
   "cell_type": "code",
   "execution_count": 182,
   "metadata": {},
   "outputs": [
    {
     "data": {
      "text/html": [
       "<div>\n",
       "<style scoped>\n",
       "    .dataframe tbody tr th:only-of-type {\n",
       "        vertical-align: middle;\n",
       "    }\n",
       "\n",
       "    .dataframe tbody tr th {\n",
       "        vertical-align: top;\n",
       "    }\n",
       "\n",
       "    .dataframe thead th {\n",
       "        text-align: right;\n",
       "    }\n",
       "</style>\n",
       "<table border=\"1\" class=\"dataframe\">\n",
       "  <thead>\n",
       "    <tr style=\"text-align: right;\">\n",
       "      <th></th>\n",
       "      <th>count</th>\n",
       "      <th>mean</th>\n",
       "      <th>std</th>\n",
       "      <th>min</th>\n",
       "      <th>25%</th>\n",
       "      <th>50%</th>\n",
       "      <th>75%</th>\n",
       "      <th>max</th>\n",
       "    </tr>\n",
       "  </thead>\n",
       "  <tbody>\n",
       "    <tr>\n",
       "      <th>Age</th>\n",
       "      <td>294.0</td>\n",
       "      <td>35.503401</td>\n",
       "      <td>9.839930</td>\n",
       "      <td>18.0</td>\n",
       "      <td>29.00</td>\n",
       "      <td>34.0</td>\n",
       "      <td>41.75</td>\n",
       "      <td>59.0</td>\n",
       "    </tr>\n",
       "    <tr>\n",
       "      <th>EnvironmentSatisfaction</th>\n",
       "      <td>294.0</td>\n",
       "      <td>2.554422</td>\n",
       "      <td>1.112494</td>\n",
       "      <td>1.0</td>\n",
       "      <td>2.00</td>\n",
       "      <td>3.0</td>\n",
       "      <td>3.00</td>\n",
       "      <td>4.0</td>\n",
       "    </tr>\n",
       "    <tr>\n",
       "      <th>JobSatisfaction</th>\n",
       "      <td>294.0</td>\n",
       "      <td>2.659864</td>\n",
       "      <td>1.147763</td>\n",
       "      <td>1.0</td>\n",
       "      <td>2.00</td>\n",
       "      <td>3.0</td>\n",
       "      <td>4.00</td>\n",
       "      <td>4.0</td>\n",
       "    </tr>\n",
       "    <tr>\n",
       "      <th>MonthlyIncome</th>\n",
       "      <td>294.0</td>\n",
       "      <td>5860.554422</td>\n",
       "      <td>4309.739923</td>\n",
       "      <td>1091.0</td>\n",
       "      <td>2611.25</td>\n",
       "      <td>4295.0</td>\n",
       "      <td>7654.75</td>\n",
       "      <td>19973.0</td>\n",
       "    </tr>\n",
       "    <tr>\n",
       "      <th>YearsAtCompany</th>\n",
       "      <td>294.0</td>\n",
       "      <td>6.047619</td>\n",
       "      <td>5.560506</td>\n",
       "      <td>0.0</td>\n",
       "      <td>2.00</td>\n",
       "      <td>5.0</td>\n",
       "      <td>9.00</td>\n",
       "      <td>37.0</td>\n",
       "    </tr>\n",
       "  </tbody>\n",
       "</table>\n",
       "</div>"
      ],
      "text/plain": [
       "                         count         mean          std     min      25%  \\\n",
       "Age                      294.0    35.503401     9.839930    18.0    29.00   \n",
       "EnvironmentSatisfaction  294.0     2.554422     1.112494     1.0     2.00   \n",
       "JobSatisfaction          294.0     2.659864     1.147763     1.0     2.00   \n",
       "MonthlyIncome            294.0  5860.554422  4309.739923  1091.0  2611.25   \n",
       "YearsAtCompany           294.0     6.047619     5.560506     0.0     2.00   \n",
       "\n",
       "                            50%      75%      max  \n",
       "Age                        34.0    41.75     59.0  \n",
       "EnvironmentSatisfaction     3.0     3.00      4.0  \n",
       "JobSatisfaction             3.0     4.00      4.0  \n",
       "MonthlyIncome            4295.0  7654.75  19973.0  \n",
       "YearsAtCompany              5.0     9.00     37.0  "
      ]
     },
     "execution_count": 182,
     "metadata": {},
     "output_type": "execute_result"
    }
   ],
   "source": [
    "df.describe(include='number').T"
   ]
  },
  {
   "cell_type": "code",
   "execution_count": 183,
   "metadata": {},
   "outputs": [
    {
     "data": {
      "text/html": [
       "<div>\n",
       "<style scoped>\n",
       "    .dataframe tbody tr th:only-of-type {\n",
       "        vertical-align: middle;\n",
       "    }\n",
       "\n",
       "    .dataframe tbody tr th {\n",
       "        vertical-align: top;\n",
       "    }\n",
       "\n",
       "    .dataframe thead th {\n",
       "        text-align: right;\n",
       "    }\n",
       "</style>\n",
       "<table border=\"1\" class=\"dataframe\">\n",
       "  <thead>\n",
       "    <tr style=\"text-align: right;\">\n",
       "      <th></th>\n",
       "      <th>count</th>\n",
       "      <th>unique</th>\n",
       "      <th>top</th>\n",
       "      <th>freq</th>\n",
       "    </tr>\n",
       "  </thead>\n",
       "  <tbody>\n",
       "    <tr>\n",
       "      <th>Attrition</th>\n",
       "      <td>294</td>\n",
       "      <td>2</td>\n",
       "      <td>No</td>\n",
       "      <td>147</td>\n",
       "    </tr>\n",
       "    <tr>\n",
       "      <th>Department</th>\n",
       "      <td>294</td>\n",
       "      <td>3</td>\n",
       "      <td>Research &amp; Development</td>\n",
       "      <td>186</td>\n",
       "    </tr>\n",
       "    <tr>\n",
       "      <th>Gender</th>\n",
       "      <td>294</td>\n",
       "      <td>2</td>\n",
       "      <td>Male</td>\n",
       "      <td>179</td>\n",
       "    </tr>\n",
       "  </tbody>\n",
       "</table>\n",
       "</div>"
      ],
      "text/plain": [
       "           count unique                     top freq\n",
       "Attrition    294      2                      No  147\n",
       "Department   294      3  Research & Development  186\n",
       "Gender       294      2                    Male  179"
      ]
     },
     "execution_count": 183,
     "metadata": {},
     "output_type": "execute_result"
    }
   ],
   "source": [
    "df.describe(include='object').T"
   ]
  },
  {
   "cell_type": "code",
   "execution_count": 184,
   "metadata": {},
   "outputs": [],
   "source": [
    "df_clean = df_clean.reset_index(drop=True)"
   ]
  },
  {
   "cell_type": "code",
   "execution_count": 185,
   "metadata": {},
   "outputs": [
    {
     "data": {
      "text/html": [
       "<div>\n",
       "<style scoped>\n",
       "    .dataframe tbody tr th:only-of-type {\n",
       "        vertical-align: middle;\n",
       "    }\n",
       "\n",
       "    .dataframe tbody tr th {\n",
       "        vertical-align: top;\n",
       "    }\n",
       "\n",
       "    .dataframe thead th {\n",
       "        text-align: right;\n",
       "    }\n",
       "</style>\n",
       "<table border=\"1\" class=\"dataframe\">\n",
       "  <thead>\n",
       "    <tr style=\"text-align: right;\">\n",
       "      <th></th>\n",
       "      <th>Attrition</th>\n",
       "      <th>Department</th>\n",
       "      <th>Gender</th>\n",
       "      <th>Age</th>\n",
       "      <th>EnvironmentSatisfaction</th>\n",
       "      <th>JobSatisfaction</th>\n",
       "      <th>MonthlyIncome</th>\n",
       "      <th>YearsAtCompany</th>\n",
       "    </tr>\n",
       "  </thead>\n",
       "  <tbody>\n",
       "    <tr>\n",
       "      <th>0</th>\n",
       "      <td>0</td>\n",
       "      <td>2</td>\n",
       "      <td>1</td>\n",
       "      <td>37</td>\n",
       "      <td>3</td>\n",
       "      <td>4</td>\n",
       "      <td>7428</td>\n",
       "      <td>5</td>\n",
       "    </tr>\n",
       "    <tr>\n",
       "      <th>1</th>\n",
       "      <td>0</td>\n",
       "      <td>1</td>\n",
       "      <td>1</td>\n",
       "      <td>39</td>\n",
       "      <td>1</td>\n",
       "      <td>4</td>\n",
       "      <td>4108</td>\n",
       "      <td>7</td>\n",
       "    </tr>\n",
       "    <tr>\n",
       "      <th>2</th>\n",
       "      <td>0</td>\n",
       "      <td>1</td>\n",
       "      <td>1</td>\n",
       "      <td>31</td>\n",
       "      <td>2</td>\n",
       "      <td>3</td>\n",
       "      <td>4197</td>\n",
       "      <td>10</td>\n",
       "    </tr>\n",
       "    <tr>\n",
       "      <th>3</th>\n",
       "      <td>0</td>\n",
       "      <td>1</td>\n",
       "      <td>1</td>\n",
       "      <td>29</td>\n",
       "      <td>3</td>\n",
       "      <td>4</td>\n",
       "      <td>2340</td>\n",
       "      <td>6</td>\n",
       "    </tr>\n",
       "    <tr>\n",
       "      <th>4</th>\n",
       "      <td>0</td>\n",
       "      <td>2</td>\n",
       "      <td>1</td>\n",
       "      <td>36</td>\n",
       "      <td>2</td>\n",
       "      <td>4</td>\n",
       "      <td>6201</td>\n",
       "      <td>18</td>\n",
       "    </tr>\n",
       "  </tbody>\n",
       "</table>\n",
       "</div>"
      ],
      "text/plain": [
       "   Attrition  Department  Gender  Age  EnvironmentSatisfaction  \\\n",
       "0          0           2       1   37                        3   \n",
       "1          0           1       1   39                        1   \n",
       "2          0           1       1   31                        2   \n",
       "3          0           1       1   29                        3   \n",
       "4          0           2       1   36                        2   \n",
       "\n",
       "   JobSatisfaction  MonthlyIncome  YearsAtCompany  \n",
       "0                4           7428               5  \n",
       "1                4           4108               7  \n",
       "2                3           4197              10  \n",
       "3                4           2340               6  \n",
       "4                4           6201              18  "
      ]
     },
     "execution_count": 185,
     "metadata": {},
     "output_type": "execute_result"
    }
   ],
   "source": [
    "def encoding(df, cols):\n",
    "    for col in cols:\n",
    "        df[col] = df[col].astype('category').cat.codes\n",
    "    return df\n",
    "\n",
    "object_cols = df_clean.select_dtypes(include='object')\n",
    "df_clean = encoding(df_clean, object_cols)\n",
    "df_clean.head()"
   ]
  },
  {
   "cell_type": "code",
   "execution_count": 186,
   "metadata": {},
   "outputs": [],
   "source": [
    "class Node:\n",
    "    def __init__(self, feature_index=None, threshold=None, left=None, right=None, info_gain=None, value=None, sample=None):\n",
    "        self.feature_index = feature_index\n",
    "        self.threshold = threshold\n",
    "        self.left = left \n",
    "        self.right = right\n",
    "        self.info_gain = info_gain\n",
    "        self.value = value \n",
    "        self.sample = sample \n",
    "\n",
    "\n",
    "\n",
    "class DecisionTreeClassifier:\n",
    "    def __init__(self, max_depth=3, min_sample_split=2, min_sample_leaf=1, features=None, mode='gini'):\n",
    "        self.max_depth = max_depth\n",
    "        self.min_sample_split = min_sample_split\n",
    "        self.min_sample_leaf = min_sample_leaf\n",
    "        self.features = features\n",
    "        self.mode = mode \n",
    "\n",
    "        self.root = None \n",
    "        self.feature_importance = None \n",
    "\n",
    "\n",
    "    \"\"\"RECURSIBVE FUNC FOR BUILDING THE TREE\"\"\"\n",
    "    def build_tree(self, dataset, curr_depth=0):\n",
    "        X, Y = dataset[:, :-1], dataset[:, -1]\n",
    "        n_samples, n_features = X.shape \n",
    "\n",
    "        features = np.arange(n_features)\n",
    "        if self.features != None:\n",
    "            features = self.features\n",
    "\n",
    "        if n_samples>=self.min_sample_split and curr_depth<=self.max_depth:\n",
    "            best_split = self.get_best_split(dataset, n_samples, features)\n",
    "\n",
    "            if best_split['info_gain']>0 and len(best_split['dataset_left'])>=self.min_sample_leaf and len(best_split['dataset_right'])>=self.min_sample_leaf:\n",
    "                feature_index = best_split['feature_index']\n",
    "\n",
    "                self.feature_importance[0][feature_index] += best_split['info_gain']\n",
    "                self.feature_importance[1][feature_index] += 1\n",
    "\n",
    "                left_subtree = self.build_tree(best_split['dataset_left'], curr_depth+1)\n",
    "                right_subtree = self.build_tree(best_split['dataset_right'], curr_depth+1)\n",
    "                return Node(\n",
    "                    feature_index=feature_index, threshold=best_split['threshold'], left=left_subtree, right=right_subtree, info_gain=best_split['info_gain'], sample=Y\n",
    "                )\n",
    "        \n",
    "        leaf_value = self.calc_leaf_value(Y)\n",
    "        return Node(value=leaf_value, sample=Y)\n",
    "    \n",
    "    def get_best_split(self, dataset, n_samples, features):\n",
    "        best_split = {}\n",
    "        max_info_gain = -float('inf')\n",
    "\n",
    "        for feature_index in features:\n",
    "            possible_thresholds = np.unique(dataset[:, feature_index])\n",
    "            for threshold in possible_thresholds:\n",
    "                dataset_left, dataset_right = self.split(dataset, feature_index, threshold)\n",
    "\n",
    "                if len(dataset_left)>0 and len(dataset_right)>0:\n",
    "                    y, left_y, right_y = dataset[:, -1], dataset_left[:, -1], dataset_right[:, -1]\n",
    "\n",
    "                    curr_info_gain = self.information_gain(y, left_y, right_y, self.mode)\n",
    "\n",
    "                    if curr_info_gain > max_info_gain:\n",
    "                        best_split = {\n",
    "                            \"feature_index\": feature_index,\n",
    "                            \"threshold\": threshold,\n",
    "                            \"dataset_left\": dataset_left,\n",
    "                            \"dataset_right\": dataset_right,\n",
    "                            \"info_gain\": curr_info_gain,\n",
    "                        }\n",
    "                        max_info_gain = curr_info_gain\n",
    "        return best_split\n",
    "    \n",
    "    def split(self, dataset, feature_index, threshold):\n",
    "        dataset_left = np.array([row for row in dataset if row[feature_index] <= threshold])\n",
    "        dataset_right = np.array([row for row in dataset if row[feature_index] > threshold])\n",
    "        return dataset_left, dataset_right\n",
    "    \n",
    "    def calc_leaf_value(self, Y):\n",
    "        Y = list(Y)\n",
    "        return max(Y, key=Y.count)\n",
    "    \n",
    "\n",
    "    \"\"\"INFORMATION GAIN\"\"\"\n",
    "    def information_gain(self, parent, l_child, r_child, mode):\n",
    "        weight_l = len(l_child) / len(parent)\n",
    "        weight_r = len(r_child) / len(parent)\n",
    "        if mode == 'gini':\n",
    "            gain = self.gini(parent) - (weight_l*self.gini(l_child) + weight_r*self.gini(r_child))\n",
    "        else:\n",
    "            gain = self.entropy(parent) - (weight_l*self.entropy(l_child) + weight_r*self.entropy(r_child))\n",
    "        return gain\n",
    "    \n",
    "    def entropy(self, y):\n",
    "        classes = np.unique(y)\n",
    "        entropy = 0\n",
    "        for cls in classes:\n",
    "            p_cls = len(y[y == cls]) / len(y)\n",
    "            entropy += -p_cls * np.log2(p_cls)\n",
    "        return entropy\n",
    "    \n",
    "    def gini(self, y):\n",
    "        classes = np.unique(y)\n",
    "        gini = 0\n",
    "        for cls in classes:\n",
    "            p_cls = len(y[y == cls]) / len(y)\n",
    "            gini += p_cls ** 2\n",
    "        return 1- gini\n",
    "    \n",
    "\n",
    "\n",
    "    \"\"\"POST PRUNING\"\"\"\n",
    "    def reduced_error_pruning(self, X_test, y_test, tree=None):\n",
    "        if tree.left and tree.right:\n",
    "            self.reduced_error_pruning(X_test, y_test, tree.left)\n",
    "            self.reduced_error_pruning(X_test, y_test, tree.right)\n",
    "\n",
    "            if tree.left.value != None and tree.right.value != None:\n",
    "                accuracy_before = np.mean(self.predict(X_test) == y_test)\n",
    "                tree.value = self.calc_leaf_value(y_test)\n",
    "                accuracy_pruned = np.mean(self.predict(X_test) == y_test)\n",
    "\n",
    "                if accuracy_pruned >= accuracy_before:\n",
    "                    tree.left = None\n",
    "                    tree.right = None \n",
    "                else:\n",
    "                    tree.value = None \n",
    "\n",
    "    def _get_leaves(self, tree=None):\n",
    "        if tree.value is not None:\n",
    "            return [tree]\n",
    "        return self._get_leaves(tree.left) + self._get_leaves(tree.right)    \n",
    "\n",
    "    def _calc_subtree_cost(self, tree=None):\n",
    "        if tree is None:\n",
    "            return 0\n",
    "\n",
    "        if tree.value is not None:\n",
    "            y = np.array(tree.sample)\n",
    "            if self.mode == 'gini':\n",
    "                return self.gini(y)\n",
    "            else:\n",
    "                return self.entropy(y)\n",
    "\n",
    "        left_cost = self._calc_subtree_cost(tree.left)\n",
    "        right_cost = self._calc_subtree_cost(tree.right)   \n",
    "        return left_cost + right_cost + 1\n",
    "\n",
    "    def cost_complexity_pruning(self, alpha=0.01, tree=None):\n",
    "        if tree is None:\n",
    "            tree = self.root \n",
    "\n",
    "        if tree.left and tree.right:\n",
    "            self.cost_complexity_pruning(alpha, tree.left)\n",
    "            self.cost_complexity_pruning(alpha, tree.right)\n",
    "\n",
    "            left_cost = self._calc_subtree_cost(tree.left)\n",
    "            right_cost = self._calc_subtree_cost(tree.right)   \n",
    "\n",
    "            if (left_cost + right_cost - 1) * alpha >= tree.info_gain:\n",
    "                tree.value = self.calc_leaf_value([leaf.value for leaf in self._get_leaves(tree)])\n",
    "                tree.left = tree.right = None \n",
    "        return tree\n",
    "\n",
    "\n",
    "\n",
    "    \"\"\"FIT AND PREDICT\"\"\"\n",
    "    def fit(self, X, Y):\n",
    "        dataset = np.concatenate((X, Y), axis=1)\n",
    "        self.feature_importance = np.zeros([2, X.shape[1]])\n",
    "        self.root = self.build_tree(dataset)\n",
    "\n",
    "    def predict(self, X):\n",
    "        predictions = [self.make_predictions(x, self.root) for x in X]\n",
    "        return predictions\n",
    "    \n",
    "    def make_predictions(self, x, tree=None):\n",
    "        if tree.value is not None:\n",
    "            return tree.value\n",
    "        feature_val = x[tree.feature_index]\n",
    "        if feature_val <= tree.threshold:\n",
    "            return self.make_predictions(x, tree.left)\n",
    "        else:\n",
    "            return self.make_predictions(x, tree.right)\n",
    "        \n",
    "    \n",
    "\n",
    "    \"\"\"PRINT TREE\"\"\"\n",
    "    def print_tree(self, tree=None, depth=0):\n",
    "        if tree is None:\n",
    "            tree = self.root \n",
    "\n",
    "        if tree.value is not None:\n",
    "            print(f'{'   ' * depth} leaf: {tree.value} | {dict(Counter(tree.sample))} | depth: {depth}')\n",
    "            return\n",
    "        \n",
    "        print(f'{'   ' * depth} feature {tree.feature_index} <= {tree.threshold} | depth: {depth}')\n",
    "\n",
    "        self.print_tree(tree.left, depth+1)\n",
    "        self.print_tree(tree.right, depth+1)\n",
    "\n",
    "    \n",
    "\n",
    "    \"\"\"LEAF INFO\"\"\"\n",
    "    def get_leaf_all_info(self, tree=None, node_id=0, leaf_info=None):\n",
    "        if leaf_info is None:\n",
    "            leaf_info = {}\n",
    "\n",
    "        if tree is None:\n",
    "            tree = self.root \n",
    "\n",
    "        if tree.value is not None:\n",
    "            count = Counter(tree.sample)\n",
    "            ratio = {k: round(v / len(count), 2) for k, v in count.items()}\n",
    "            leaf_info[node_id] = ratio\n",
    "            return leaf_info\n",
    "        \n",
    "        self.get_leaf_all_info(tree.left, node_id * 2 +1, leaf_info)\n",
    "        self.get_leaf_all_info(tree.right, node_id * 2 +2, leaf_info)\n",
    "        return leaf_info\n",
    "    \n",
    "    def get_leaf_info(self, x, tree=None, node_id=0):\n",
    "        if tree is None:\n",
    "            tree = self.root \n",
    "\n",
    "        if tree.value is not None:\n",
    "            count = Counter(tree.sample)\n",
    "            ratio = {k: round(v / len(count), 2) for k, v in count.items()}\n",
    "            return node_id, ratio\n",
    "        \n",
    "        feature_val = x[tree.feature_index]\n",
    "        if feature_val <= tree.threshold:\n",
    "            return self.get_leaf_info(x, tree.left, node_id * 2 +1)\n",
    "        else:\n",
    "            return self.get_leaf_info(x, tree.right, node_id * 2 + 2)"
   ]
  },
  {
   "cell_type": "code",
   "execution_count": null,
   "metadata": {},
   "outputs": [],
   "source": [
    "def accuracy_score(y_pred, y_test):\n",
    "    return np.mean(y_pred == y_test) * 100\n",
    "\n",
    "def cross_validation(X, y, model, k=5, pruning=False, alpha=0):\n",
    "    n_samples = len(X)\n",
    "    indices = np.arange(n_samples)\n",
    "    np.random.shuffle(indices)\n",
    "\n",
    "    fold_size = n_samples // k\n",
    "    accuracies = []\n",
    "\n",
    "    for i in range(k):\n",
    "        test_start = fold_size * i \n",
    "        test_end = test_start + fold_size if i < k - 1 else n_samples \n",
    "        test_indices = indices[test_start:test_end]\n",
    "        train_indices = np.concatenate([indices[:test_start], indices[test_end:]])\n",
    "\n",
    "        X_train, X_test = X[train_indices], X[test_indices]\n",
    "        y_train, y_test = y[train_indices], y[test_indices]\n",
    "\n",
    "        model.fit(X_train, y_train.reshape(-1, 1))\n",
    "        if pruning == 'ccp':\n",
    "            model.cost_complexity_pruning(alpha=alpha)\n",
    "        elif pruning == 'rep':\n",
    "            model.reduced_error_pruning(X_test, y_test, model.root)\n",
    "        y_pred = model.predict(X_test)\n",
    "        accuracy = accuracy_score(y_pred, y_test)\n",
    "        accuracies.append(accuracy)\n",
    "\n",
    "    data = {\n",
    "        'X_train': X_train, 'X_test': X_test, \n",
    "        'y_train': y_train, 'y_test': y_test, \n",
    "        'y_pred': y_pred, 'test_indices': test_indices, 'train_indices': train_indices,\n",
    "        'accuracies': accuracies\n",
    "    }\n",
    "\n",
    "    return data "
   ]
  },
  {
   "cell_type": "code",
   "execution_count": null,
   "metadata": {},
   "outputs": [],
   "source": [
    "model"
   ]
  },
  {
   "cell_type": "code",
   "execution_count": 188,
   "metadata": {},
   "outputs": [
    {
     "data": {
      "text/html": [
       "<div>\n",
       "<style scoped>\n",
       "    .dataframe tbody tr th:only-of-type {\n",
       "        vertical-align: middle;\n",
       "    }\n",
       "\n",
       "    .dataframe tbody tr th {\n",
       "        vertical-align: top;\n",
       "    }\n",
       "\n",
       "    .dataframe thead th {\n",
       "        text-align: right;\n",
       "    }\n",
       "</style>\n",
       "<table border=\"1\" class=\"dataframe\">\n",
       "  <thead>\n",
       "    <tr style=\"text-align: right;\">\n",
       "      <th></th>\n",
       "      <th>Department</th>\n",
       "      <th>Gender</th>\n",
       "      <th>Age</th>\n",
       "      <th>EnvironmentSatisfaction</th>\n",
       "      <th>JobSatisfaction</th>\n",
       "      <th>MonthlyIncome</th>\n",
       "      <th>YearsAtCompany</th>\n",
       "      <th>Attrition</th>\n",
       "    </tr>\n",
       "  </thead>\n",
       "  <tbody>\n",
       "    <tr>\n",
       "      <th>0</th>\n",
       "      <td>2</td>\n",
       "      <td>1</td>\n",
       "      <td>37</td>\n",
       "      <td>3</td>\n",
       "      <td>4</td>\n",
       "      <td>7428</td>\n",
       "      <td>5</td>\n",
       "      <td>0</td>\n",
       "    </tr>\n",
       "    <tr>\n",
       "      <th>1</th>\n",
       "      <td>1</td>\n",
       "      <td>1</td>\n",
       "      <td>39</td>\n",
       "      <td>1</td>\n",
       "      <td>4</td>\n",
       "      <td>4108</td>\n",
       "      <td>7</td>\n",
       "      <td>0</td>\n",
       "    </tr>\n",
       "    <tr>\n",
       "      <th>2</th>\n",
       "      <td>1</td>\n",
       "      <td>1</td>\n",
       "      <td>31</td>\n",
       "      <td>2</td>\n",
       "      <td>3</td>\n",
       "      <td>4197</td>\n",
       "      <td>10</td>\n",
       "      <td>0</td>\n",
       "    </tr>\n",
       "    <tr>\n",
       "      <th>3</th>\n",
       "      <td>1</td>\n",
       "      <td>1</td>\n",
       "      <td>29</td>\n",
       "      <td>3</td>\n",
       "      <td>4</td>\n",
       "      <td>2340</td>\n",
       "      <td>6</td>\n",
       "      <td>0</td>\n",
       "    </tr>\n",
       "    <tr>\n",
       "      <th>4</th>\n",
       "      <td>2</td>\n",
       "      <td>1</td>\n",
       "      <td>36</td>\n",
       "      <td>2</td>\n",
       "      <td>4</td>\n",
       "      <td>6201</td>\n",
       "      <td>18</td>\n",
       "      <td>0</td>\n",
       "    </tr>\n",
       "  </tbody>\n",
       "</table>\n",
       "</div>"
      ],
      "text/plain": [
       "   Department  Gender  Age  EnvironmentSatisfaction  JobSatisfaction  \\\n",
       "0           2       1   37                        3                4   \n",
       "1           1       1   39                        1                4   \n",
       "2           1       1   31                        2                3   \n",
       "3           1       1   29                        3                4   \n",
       "4           2       1   36                        2                4   \n",
       "\n",
       "   MonthlyIncome  YearsAtCompany  Attrition  \n",
       "0           7428               5          0  \n",
       "1           4108               7          0  \n",
       "2           4197              10          0  \n",
       "3           2340               6          0  \n",
       "4           6201              18          0  "
      ]
     },
     "execution_count": 188,
     "metadata": {},
     "output_type": "execute_result"
    }
   ],
   "source": [
    "attrition = df_clean['Attrition'].values\n",
    "df_clean = df_clean.drop('Attrition', axis=1)\n",
    "df_clean['Attrition'] = attrition\n",
    "df_clean.head()"
   ]
  },
  {
   "cell_type": "code",
   "execution_count": 189,
   "metadata": {},
   "outputs": [],
   "source": [
    "X = df_clean.iloc[:, :-1].values\n",
    "Y = df_clean.iloc[:, -1].values"
   ]
  },
  {
   "cell_type": "markdown",
   "metadata": {},
   "source": [
    "## `Scenario 1`: Minimum Limitations"
   ]
  },
  {
   "cell_type": "markdown",
   "metadata": {},
   "source": [
    "with gini VS with entropy"
   ]
  },
  {
   "cell_type": "code",
   "execution_count": 190,
   "metadata": {},
   "outputs": [
    {
     "data": {
      "image/png": "[encoded data removed]",
      "text/plain": [
       "<Figure size 640x480 with 1 Axes>"
      ]
     },
     "metadata": {},
     "output_type": "display_data"
    }
   ],
   "source": [
    "model_gini = DecisionTreeClassifier(max_depth=float('inf'), min_sample_split=2, min_sample_leaf=1, features=None, mode='gini')\n",
    "data = cross_validation(X, Y, model_gini, k=5, pruning=False)\n",
    "avg_accuracy = np.mean(data['accuracies'])\n",
    "sns.lineplot(data['accuracies'], marker='o')\n",
    "plt.suptitle('Accuracy [Minimum Limitations | Gini]', size=15, weight='bold')\n",
    "plt.title(f'Avg Accuracy: {avg_accuracy}')\n",
    "plt.show()"
   ]
  },
  {
   "cell_type": "code",
   "execution_count": 191,
   "metadata": {},
   "outputs": [
    {
     "data": {
      "image/png": "[encoded data removed]",
      "text/plain": [
       "<Figure size 640x480 with 1 Axes>"
      ]
     },
     "metadata": {},
     "output_type": "display_data"
    }
   ],
   "source": [
    "model_entropy = DecisionTreeClassifier(max_depth=float('inf'), min_sample_split=2, min_sample_leaf=1, features=None, mode='entropy')\n",
    "data = cross_validation(X, Y, model_entropy, k=5, pruning=False)\n",
    "avg_accuracy = np.mean(data['accuracies'])\n",
    "sns.lineplot(data['accuracies'], marker='o')\n",
    "plt.suptitle('Accuracy [Minimum Limitations | Entropy]', size=15, weight='bold')\n",
    "plt.title(f'Avg Accuracy: {avg_accuracy}')\n",
    "plt.show()"
   ]
  },
  {
   "cell_type": "markdown",
   "metadata": {},
   "source": [
    "they almost perform the same, let's check on their leave nodes"
   ]
  },
  {
   "cell_type": "code",
   "execution_count": 192,
   "metadata": {},
   "outputs": [
    {
     "name": "stdout",
     "output_type": "stream",
     "text": [
      "Node id: 7, value: {1: 30.0}\n",
      "Node id: 71, value: {1: 1.0}\n",
      "Node id: 291, value: {0: 4.0}\n",
      "Node id: 585, value: {0: 1.0}\n",
      "Node id: 1173, value: {1: 1.0}\n",
      "Node id: 1174, value: {0: 1.0}\n",
      "Node id: 146, value: {1: 1.0}\n",
      "Node id: 73, value: {0: 1.0}\n",
      "Node id: 74, value: {1: 5.0}\n",
      "Node id: 75, value: {1: 8.0}\n",
      "Node id: 153, value: {1: 3.0}\n",
      "Node id: 309, value: {0: 2.0}\n",
      "Node id: 310, value: {1: 1.0}\n",
      "Node id: 38, value: {0: 1.0}\n",
      "Node id: 39, value: {1: 1.0}\n",
      "Node id: 40, value: {0: 2.0}\n",
      "Node id: 41, value: {1: 8.0}\n",
      "Node id: 42, value: {0: 1.0}\n",
      "Node id: 87, value: {1: 2.0}\n",
      "Node id: 711, value: {1: 1.0}\n",
      "Node id: 712, value: {0: 1.0}\n",
      "Node id: 356, value: {1: 2.0}\n",
      "Node id: 715, value: {0: 1.0}\n",
      "Node id: 716, value: {1: 1.0}\n",
      "Node id: 358, value: {0: 5.0}\n",
      "Node id: 44, value: {1: 5.0}\n",
      "Node id: 91, value: {0: 8.0}\n",
      "Node id: 185, value: {1: 1.0}\n",
      "Node id: 186, value: {0: 2.0}\n",
      "Node id: 93, value: {1: 2.0}\n",
      "Node id: 189, value: {0: 3.0}\n",
      "Node id: 381, value: {1: 3.0}\n",
      "Node id: 765, value: {0: 4.0}\n",
      "Node id: 766, value: {1: 1.0}\n",
      "Node id: 95, value: {1: 5.0}\n",
      "Node id: 193, value: {1: 1.0}\n",
      "Node id: 194, value: {0: 1.0}\n",
      "Node id: 391, value: {0: 1.0}\n",
      "Node id: 392, value: {1: 2.0}\n",
      "Node id: 196, value: {0: 4.0}\n",
      "Node id: 98, value: {1: 2.0}\n",
      "Node id: 24, value: {0: 6.0}\n",
      "Node id: 51, value: {0: 3.0}\n",
      "Node id: 105, value: {0: 2.0}\n",
      "Node id: 106, value: {1: 4.0}\n",
      "Node id: 107, value: {0: 4.0}\n",
      "Node id: 435, value: {1: 1.0}\n",
      "Node id: 436, value: {0: 2.0}\n",
      "Node id: 218, value: {1: 2.0}\n",
      "Node id: 219, value: {0: 5.0}\n",
      "Node id: 1767, value: {1: 1.0}\n",
      "Node id: 1768, value: {0: 1.0}\n",
      "Node id: 884, value: {1: 2.0}\n",
      "Node id: 442, value: {0: 4.0}\n",
      "Node id: 110, value: {0: 31.0}\n",
      "Node id: 27, value: {1: 3.0}\n",
      "Node id: 115, value: {1: 3.0}\n",
      "Node id: 116, value: {0: 1.0}\n",
      "Node id: 58, value: {0: 7.0}\n",
      "Node id: 119, value: {1: 2.0}\n",
      "Node id: 120, value: {0: 2.0}\n",
      "Node id: 243, value: {0: 1.0}\n",
      "Node id: 244, value: {1: 3.0}\n",
      "Node id: 122, value: {1: 9.0}\n",
      "Node id: 61, value: {1: 1.0}\n",
      "Node id: 62, value: {0: 2.0}\n"
     ]
    }
   ],
   "source": [
    "for k, v in model_gini.get_leaf_all_info().items():\n",
    "    print(f'Node id: {k}, value: {v}')"
   ]
  },
  {
   "cell_type": "code",
   "execution_count": 193,
   "metadata": {},
   "outputs": [
    {
     "name": "stdout",
     "output_type": "stream",
     "text": [
      "==GINI==\n",
      "Nodes with 0 class 32\n",
      "Nodes with 1 class 34\n"
     ]
    }
   ],
   "source": [
    "key_0 = [pair.get(0) for pair in model_gini.get_leaf_all_info().values() if pair.get(0) is not None]\n",
    "key_1 = [pair.get(1) for pair in model_gini.get_leaf_all_info().values() if pair.get(1) is not None]\n",
    "print('==GINI==')\n",
    "print(f'Nodes with 0 class {len(key_0)}')\n",
    "print(f'Nodes with 1 class {len(key_1)}')"
   ]
  },
  {
   "cell_type": "code",
   "execution_count": 194,
   "metadata": {},
   "outputs": [
    {
     "name": "stdout",
     "output_type": "stream",
     "text": [
      "==ENTROPY==\n",
      "Nodes with 0 class 37\n",
      "Nodes with 1 class 33\n"
     ]
    }
   ],
   "source": [
    "key_0 = [pair.get(0) for pair in model_entropy.get_leaf_all_info().values() if pair.get(0) is not None]\n",
    "key_1 = [pair.get(1) for pair in model_entropy.get_leaf_all_info().values() if pair.get(1) is not None]\n",
    "print('==ENTROPY==')\n",
    "print(f'Nodes with 0 class {len(key_0)}')\n",
    "print(f'Nodes with 1 class {len(key_1)}')"
   ]
  },
  {
   "cell_type": "markdown",
   "metadata": {},
   "source": [
    "entropy tend to evenly distribute the underrated class"
   ]
  },
  {
   "cell_type": "markdown",
   "metadata": {},
   "source": [
    "## `Scenario 2`: Pre Pruning"
   ]
  },
  {
   "cell_type": "code",
   "execution_count": 195,
   "metadata": {},
   "outputs": [
    {
     "name": "stdout",
     "output_type": "stream",
     "text": [
      "Total combinitions: 32\n"
     ]
    }
   ],
   "source": [
    "from itertools import product\n",
    "\n",
    "max_depths = [5, 15]\n",
    "min_sample_splits = [5, 10]\n",
    "min_sample_leaves = [1, 3]\n",
    "features = [None, [4, 5]]\n",
    "modes = ['gini', 'entropy']\n",
    "\n",
    "param_combinitions = list(product(max_depths, min_sample_splits, min_sample_leaves, features, modes))\n",
    "print(f'Total combinitions: {len(param_combinitions)}')"
   ]
  },
  {
   "cell_type": "code",
   "execution_count": 196,
   "metadata": {},
   "outputs": [],
   "source": [
    "accuracies = []\n",
    "for param in param_combinitions:\n",
    "    model = DecisionTreeClassifier(max_depth=param[0], min_sample_split=param[1], min_sample_leaf=param[2], features=param[3], mode=param[4])\n",
    "    data = cross_validation(X, Y, model_entropy, k=5, pruning=False)\n",
    "    avg_accuracy = np.mean(data['accuracies'])\n",
    "    accuracies.append(avg_accuracy)\n",
    "indices = np.argsort(accuracies)[::-1]\n",
    "top_3 = np.array(accuracies)[indices[:3]]\n",
    "param_top_3 = [param_combinitions[i] for i in indices[:3]] \n",
    "least_3 = np.array(accuracies)[indices[-3:]]\n",
    "param_least_3 = [param_combinitions[i] for i in indices[3:]] "
   ]
  },
  {
   "cell_type": "code",
   "execution_count": 197,
   "metadata": {},
   "outputs": [
    {
     "name": "stdout",
     "output_type": "stream",
     "text": [
      "Top 3: [63.29254727 62.66963293 62.55839822]\n",
      "Param: [(5, 5, 3, [4, 5], 'entropy'), (5, 10, 1, [4, 5], 'gini'), (15, 10, 1, None, 'entropy')]\n"
     ]
    }
   ],
   "source": [
    "print(f'Top 3: {top_3}')\n",
    "print(f'Param: {param_top_3}')"
   ]
  },
  {
   "cell_type": "code",
   "execution_count": 198,
   "metadata": {},
   "outputs": [
    {
     "name": "stdout",
     "output_type": "stream",
     "text": [
      "Least 3: [56.74082314 55.70634038 54.50500556]\n",
      "Param: [(15, 5, 1, [4, 5], 'entropy'), (15, 5, 3, None, 'entropy'), (5, 5, 1, None, 'gini'), (15, 10, 3, [4, 5], 'gini'), (15, 10, 1, [4, 5], 'entropy'), (5, 5, 1, [4, 5], 'entropy'), (5, 10, 3, [4, 5], 'entropy'), (15, 10, 3, [4, 5], 'entropy'), (15, 10, 3, None, 'gini'), (5, 5, 1, [4, 5], 'gini'), (15, 5, 1, [4, 5], 'gini'), (5, 10, 1, None, 'gini'), (5, 10, 1, None, 'entropy'), (5, 5, 3, None, 'gini'), (5, 10, 3, None, 'gini'), (5, 5, 3, None, 'entropy'), (15, 5, 1, None, 'gini'), (5, 5, 1, None, 'entropy'), (5, 10, 3, None, 'entropy'), (15, 5, 1, None, 'entropy'), (15, 5, 3, [4, 5], 'gini'), (15, 5, 3, [4, 5], 'entropy'), (15, 10, 3, None, 'entropy'), (5, 10, 1, [4, 5], 'entropy'), (15, 10, 1, [4, 5], 'gini'), (15, 5, 3, None, 'gini'), (5, 5, 3, [4, 5], 'gini'), (5, 10, 3, [4, 5], 'gini'), (15, 10, 1, None, 'gini')]\n"
     ]
    }
   ],
   "source": [
    "print(f'Least 3: {least_3}')\n",
    "print(f'Param: {param_least_3}')"
   ]
  },
  {
   "cell_type": "markdown",
   "metadata": {},
   "source": [
    "## `Scenario 3`: Post Pruning Cost Complexity"
   ]
  },
  {
   "cell_type": "code",
   "execution_count": 200,
   "metadata": {},
   "outputs": [
    {
     "ename": "AttributeError",
     "evalue": "'NoneType' object has no attribute 'value'",
     "output_type": "error",
     "traceback": [
      "\u001b[1;31m---------------------------------------------------------------------------\u001b[0m",
      "\u001b[1;31mAttributeError\u001b[0m                            Traceback (most recent call last)",
      "Cell \u001b[1;32mIn[200], line 3\u001b[0m\n\u001b[0;32m      1\u001b[0m model \u001b[38;5;241m=\u001b[39m DecisionTreeClassifier(max_depth\u001b[38;5;241m=\u001b[39m\u001b[38;5;28mfloat\u001b[39m(\u001b[38;5;124m'\u001b[39m\u001b[38;5;124minf\u001b[39m\u001b[38;5;124m'\u001b[39m), min_sample_split\u001b[38;5;241m=\u001b[39m\u001b[38;5;241m2\u001b[39m, min_sample_leaf\u001b[38;5;241m=\u001b[39m\u001b[38;5;241m1\u001b[39m, features\u001b[38;5;241m=\u001b[39mparam[\u001b[38;5;241m3\u001b[39m], mode\u001b[38;5;241m=\u001b[39mparam[\u001b[38;5;241m4\u001b[39m])\n\u001b[0;32m      2\u001b[0m data \u001b[38;5;241m=\u001b[39m cross_validation(X, Y, model_entropy, k\u001b[38;5;241m=\u001b[39m\u001b[38;5;241m5\u001b[39m, pruning\u001b[38;5;241m=\u001b[39m\u001b[38;5;124m'\u001b[39m\u001b[38;5;124mccp\u001b[39m\u001b[38;5;124m'\u001b[39m)\n\u001b[1;32m----> 3\u001b[0m \u001b[43mmodel\u001b[49m\u001b[38;5;241;43m.\u001b[39;49m\u001b[43mprint_tree\u001b[49m\u001b[43m(\u001b[49m\u001b[43m)\u001b[49m\n",
      "Cell \u001b[1;32mIn[186], line 196\u001b[0m, in \u001b[0;36mDecisionTreeClassifier.print_tree\u001b[1;34m(self, tree, depth)\u001b[0m\n\u001b[0;32m    193\u001b[0m \u001b[38;5;28;01mif\u001b[39;00m tree \u001b[38;5;129;01mis\u001b[39;00m \u001b[38;5;28;01mNone\u001b[39;00m:\n\u001b[0;32m    194\u001b[0m     tree \u001b[38;5;241m=\u001b[39m \u001b[38;5;28mself\u001b[39m\u001b[38;5;241m.\u001b[39mroot \n\u001b[1;32m--> 196\u001b[0m \u001b[38;5;28;01mif\u001b[39;00m \u001b[43mtree\u001b[49m\u001b[38;5;241;43m.\u001b[39;49m\u001b[43mvalue\u001b[49m \u001b[38;5;129;01mis\u001b[39;00m \u001b[38;5;129;01mnot\u001b[39;00m \u001b[38;5;28;01mNone\u001b[39;00m:\n\u001b[0;32m    197\u001b[0m     \u001b[38;5;28mprint\u001b[39m(\u001b[38;5;124mf\u001b[39m\u001b[38;5;124m'\u001b[39m\u001b[38;5;132;01m{\u001b[39;00m\u001b[38;5;124m'\u001b[39m\u001b[38;5;124m   \u001b[39m\u001b[38;5;124m'\u001b[39m\u001b[38;5;250m \u001b[39m\u001b[38;5;241m*\u001b[39m\u001b[38;5;250m \u001b[39mdepth\u001b[38;5;132;01m}\u001b[39;00m\u001b[38;5;124m leaf: \u001b[39m\u001b[38;5;132;01m{\u001b[39;00mtree\u001b[38;5;241m.\u001b[39mvalue\u001b[38;5;132;01m}\u001b[39;00m\u001b[38;5;124m | \u001b[39m\u001b[38;5;132;01m{\u001b[39;00m\u001b[38;5;28mdict\u001b[39m(Counter(tree\u001b[38;5;241m.\u001b[39msample))\u001b[38;5;132;01m}\u001b[39;00m\u001b[38;5;124m | depth: \u001b[39m\u001b[38;5;132;01m{\u001b[39;00mdepth\u001b[38;5;132;01m}\u001b[39;00m\u001b[38;5;124m'\u001b[39m)\n\u001b[0;32m    198\u001b[0m     \u001b[38;5;28;01mreturn\u001b[39;00m\n",
      "\u001b[1;31mAttributeError\u001b[0m: 'NoneType' object has no attribute 'value'"
     ]
    }
   ],
   "source": [
    "model = DecisionTreeClassifier(max_depth=float('inf'), min_sample_split=2, min_sample_leaf=1, features=param[3], mode=param[4])\n",
    "data = cross_validation(X, Y, model_entropy, k=5, pruning='ccp')\n",
    "model.print_tree()"
   ]
  },
  {
   "cell_type": "code",
   "execution_count": 202,
   "metadata": {},
   "outputs": [
    {
     "data": {
      "text/plain": [
       "[62.06896551724138,\n",
       " 56.896551724137936,\n",
       " 65.51724137931035,\n",
       " 51.724137931034484,\n",
       " 56.451612903225815]"
      ]
     },
     "execution_count": 202,
     "metadata": {},
     "output_type": "execute_result"
    }
   ],
   "source": [
    "data['accuracies']"
   ]
  },
  {
   "cell_type": "markdown",
   "metadata": {},
   "source": [
    "## `Scenario 4`: Post Pruning Reduced Error "
   ]
  },
  {
   "cell_type": "markdown",
   "metadata": {},
   "source": [
    "## `Scenario 2`: Pre Pruning"
   ]
  }
 ],
 "metadata": {
  "kernelspec": {
   "display_name": "Python 3",
   "language": "python",
   "name": "python3"
  },
  "language_info": {
   "codemirror_mode": {
    "name": "ipython",
    "version": 3
   },
   "file_extension": ".py",
   "mimetype": "text/x-python",
   "name": "python",
   "nbconvert_exporter": "python",
   "pygments_lexer": "ipython3",
   "version": "3.12.2"
  }
 },
 "nbformat": 4,
 "nbformat_minor": 2
}
